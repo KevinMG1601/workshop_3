{
 "cells": [
  {
   "cell_type": "markdown",
   "id": "a7fdb36c",
   "metadata": {},
   "source": [
    "# ***EDA PROJECT***"
   ]
  },
  {
   "cell_type": "markdown",
   "id": "f1b9961e",
   "metadata": {},
   "source": [
    "### **Required Libraries**"
   ]
  },
  {
   "cell_type": "code",
   "execution_count": 1,
   "id": "487c2abb",
   "metadata": {},
   "outputs": [],
   "source": [
    "import sys\n",
    "import os\n",
    "project_path = os.path.abspath(\"../../workshop_3\")\n",
    "sys.path.append(project_path)"
   ]
  },
  {
   "cell_type": "code",
   "execution_count": 2,
   "id": "fda530fc",
   "metadata": {},
   "outputs": [],
   "source": [
    "import pandas as pd\n",
    "\n",
    "from utils.eda import comparation"
   ]
  },
  {
   "cell_type": "markdown",
   "id": "564b3801",
   "metadata": {},
   "source": [
    "### **Read And View Data**"
   ]
  },
  {
   "cell_type": "code",
   "execution_count": null,
   "id": "b976e17d",
   "metadata": {},
   "outputs": [],
   "source": [
    "df_1 = pd.read_csv('../data/2015.csv')\n",
    "df_2 = pd.read_csv('../data/2016.csv')\n",
    "df_3 = pd.read_csv('../data/2017.csv')\n",
    "df_4 = pd.read_csv('../data/2018.csv')\n",
    "df_5 = pd.read_csv('../data/2019.csv')"
   ]
  },
  {
   "cell_type": "markdown",
   "id": "f866026d",
   "metadata": {},
   "source": [
    "### 2015"
   ]
  },
  {
   "cell_type": "code",
   "execution_count": null,
   "id": "bad7c008",
   "metadata": {},
   "outputs": [],
   "source": [
    "df_1.head()"
   ]
  },
  {
   "cell_type": "code",
   "execution_count": null,
   "id": "7780a5bf",
   "metadata": {},
   "outputs": [],
   "source": [
    "df_1.info()"
   ]
  },
  {
   "cell_type": "markdown",
   "id": "b1fc7a1c",
   "metadata": {},
   "source": [
    "### 2016"
   ]
  },
  {
   "cell_type": "code",
   "execution_count": null,
   "id": "d7424b79",
   "metadata": {},
   "outputs": [],
   "source": [
    "df_2.head()"
   ]
  },
  {
   "cell_type": "code",
   "execution_count": null,
   "id": "b4869dc5",
   "metadata": {},
   "outputs": [],
   "source": [
    "df_2.info()"
   ]
  },
  {
   "cell_type": "markdown",
   "id": "fde20df1",
   "metadata": {},
   "source": [
    "### 2017"
   ]
  },
  {
   "cell_type": "code",
   "execution_count": null,
   "id": "e6412dac",
   "metadata": {},
   "outputs": [],
   "source": [
    "df_3.head()"
   ]
  },
  {
   "cell_type": "code",
   "execution_count": null,
   "id": "8d8b0679",
   "metadata": {},
   "outputs": [],
   "source": [
    "df_3.info()"
   ]
  },
  {
   "cell_type": "markdown",
   "id": "931f4b92",
   "metadata": {},
   "source": [
    "### 2018"
   ]
  },
  {
   "cell_type": "code",
   "execution_count": null,
   "id": "5fcab1a9",
   "metadata": {},
   "outputs": [],
   "source": [
    "df_4.head()"
   ]
  },
  {
   "cell_type": "code",
   "execution_count": null,
   "id": "fdb7649a",
   "metadata": {},
   "outputs": [],
   "source": [
    "df_4.info()"
   ]
  },
  {
   "cell_type": "markdown",
   "id": "c63cdc83",
   "metadata": {},
   "source": [
    "### 2019"
   ]
  },
  {
   "cell_type": "code",
   "execution_count": null,
   "id": "1ade8df4",
   "metadata": {},
   "outputs": [],
   "source": [
    "df_5.head()"
   ]
  },
  {
   "cell_type": "code",
   "execution_count": null,
   "id": "90d264c1",
   "metadata": {},
   "outputs": [],
   "source": [
    "df_5.info() "
   ]
  },
  {
   "cell_type": "markdown",
   "id": "dacb22f7",
   "metadata": {},
   "source": [
    "### **Csv comparison**"
   ]
  },
  {
   "cell_type": "code",
   "execution_count": null,
   "id": "576a647c",
   "metadata": {},
   "outputs": [],
   "source": [
    "years = [\"2015\", \"2016\", \"2017\", \"2018\", \"2019\"]\n",
    "dfs = [df_1, df_2, df_3, df_4, df_5]\n",
    "\n",
    "years_comparation = comparation(dfs, years)\n",
    "years_comparation.head()"
   ]
  },
  {
   "cell_type": "code",
   "execution_count": null,
   "id": "b1810d3f",
   "metadata": {},
   "outputs": [],
   "source": [
    "files = {\n",
    "    \"2015\": \"../data/2015.csv\",\n",
    "    \"2016\": \"../data/2016.csv\",\n",
    "    \"2017\": \"../data/2017.csv\",\n",
    "    \"2018\": \"../data/2018.csv\",\n",
    "    \"2019\": \"../data/2019.csv\"\n",
    "}\n",
    "\n",
    "columns_dict = {year: pd.read_csv(file).columns.tolist() for year, file in files.items()}\n",
    "columns_df = pd.DataFrame.from_dict(columns_dict, orient=\"index\").transpose()\n",
    "\n",
    "columns_df.head(13)"
   ]
  },
  {
   "cell_type": "markdown",
   "id": "22abd86e",
   "metadata": {},
   "source": [
    "###  **Data Normalization**"
   ]
  },
  {
   "cell_type": "code",
   "execution_count": null,
   "id": "61bd1e9f",
   "metadata": {},
   "outputs": [],
   "source": []
  }
 ],
 "metadata": {
  "kernelspec": {
   "display_name": "workshop-3-YAWR-6SN-py3.11",
   "language": "python",
   "name": "python3"
  },
  "language_info": {
   "codemirror_mode": {
    "name": "ipython",
    "version": 3
   },
   "file_extension": ".py",
   "mimetype": "text/x-python",
   "name": "python",
   "nbconvert_exporter": "python",
   "pygments_lexer": "ipython3",
   "version": "3.11.9"
  }
 },
 "nbformat": 4,
 "nbformat_minor": 5
}
