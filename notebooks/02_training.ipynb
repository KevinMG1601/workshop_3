{
 "cells": [
  {
   "cell_type": "markdown",
   "id": "cfe39a81",
   "metadata": {},
   "source": [
    "## ***MODEL TRAINING***"
   ]
  },
  {
   "cell_type": "markdown",
   "id": "0fb82774",
   "metadata": {},
   "source": [
    "### **Required Libraries**"
   ]
  },
  {
   "cell_type": "code",
   "execution_count": 77,
   "id": "227a14c4",
   "metadata": {},
   "outputs": [],
   "source": [
    "import sys\n",
    "import os\n",
    "project_path = os.path.abspath(\"../../workshop_3\")\n",
    "sys.path.append(project_path)"
   ]
  },
  {
   "cell_type": "code",
   "execution_count": 91,
   "id": "e2d2099f",
   "metadata": {},
   "outputs": [],
   "source": [
    "import pandas as pd\n",
    "from sklearn.model_selection import train_test_split\n",
    "from sklearn.preprocessing import StandardScaler\n",
    "from sklearn.linear_model import LinearRegression\n",
    "from sklearn.ensemble import RandomForestRegressor, GradientBoostingRegressor\n",
    "from sklearn.metrics import mean_squared_error, r2_score\n",
    "from sklearn.pipeline import Pipeline\n",
    "from xgboost import XGBRegressor"
   ]
  },
  {
   "cell_type": "markdown",
   "id": "fac39d3c",
   "metadata": {},
   "source": [
    "### **Read data**"
   ]
  },
  {
   "cell_type": "code",
   "execution_count": 79,
   "id": "274d9c58",
   "metadata": {},
   "outputs": [
    {
     "data": {
      "text/html": [
       "<div>\n",
       "<style scoped>\n",
       "    .dataframe tbody tr th:only-of-type {\n",
       "        vertical-align: middle;\n",
       "    }\n",
       "\n",
       "    .dataframe tbody tr th {\n",
       "        vertical-align: top;\n",
       "    }\n",
       "\n",
       "    .dataframe thead th {\n",
       "        text-align: right;\n",
       "    }\n",
       "</style>\n",
       "<table border=\"1\" class=\"dataframe\">\n",
       "  <thead>\n",
       "    <tr style=\"text-align: right;\">\n",
       "      <th></th>\n",
       "      <th>year</th>\n",
       "      <th>country</th>\n",
       "      <th>continent</th>\n",
       "      <th>happiness_score</th>\n",
       "      <th>gdp_per_capita</th>\n",
       "      <th>social_support</th>\n",
       "      <th>healthy_life_expectancy</th>\n",
       "      <th>freedom</th>\n",
       "      <th>corruption</th>\n",
       "      <th>generosity</th>\n",
       "    </tr>\n",
       "  </thead>\n",
       "  <tbody>\n",
       "    <tr>\n",
       "      <th>0</th>\n",
       "      <td>2015</td>\n",
       "      <td>Switzerland</td>\n",
       "      <td>Europe</td>\n",
       "      <td>7.587</td>\n",
       "      <td>1.39651</td>\n",
       "      <td>1.34951</td>\n",
       "      <td>0.94143</td>\n",
       "      <td>0.66557</td>\n",
       "      <td>0.41978</td>\n",
       "      <td>0.29678</td>\n",
       "    </tr>\n",
       "    <tr>\n",
       "      <th>1</th>\n",
       "      <td>2015</td>\n",
       "      <td>Iceland</td>\n",
       "      <td>Europe</td>\n",
       "      <td>7.561</td>\n",
       "      <td>1.30232</td>\n",
       "      <td>1.40223</td>\n",
       "      <td>0.94784</td>\n",
       "      <td>0.62877</td>\n",
       "      <td>0.14145</td>\n",
       "      <td>0.43630</td>\n",
       "    </tr>\n",
       "    <tr>\n",
       "      <th>2</th>\n",
       "      <td>2015</td>\n",
       "      <td>Denmark</td>\n",
       "      <td>Europe</td>\n",
       "      <td>7.527</td>\n",
       "      <td>1.32548</td>\n",
       "      <td>1.36058</td>\n",
       "      <td>0.87464</td>\n",
       "      <td>0.64938</td>\n",
       "      <td>0.48357</td>\n",
       "      <td>0.34139</td>\n",
       "    </tr>\n",
       "    <tr>\n",
       "      <th>3</th>\n",
       "      <td>2015</td>\n",
       "      <td>Norway</td>\n",
       "      <td>Europe</td>\n",
       "      <td>7.522</td>\n",
       "      <td>1.45900</td>\n",
       "      <td>1.33095</td>\n",
       "      <td>0.88521</td>\n",
       "      <td>0.66973</td>\n",
       "      <td>0.36503</td>\n",
       "      <td>0.34699</td>\n",
       "    </tr>\n",
       "    <tr>\n",
       "      <th>4</th>\n",
       "      <td>2015</td>\n",
       "      <td>Canada</td>\n",
       "      <td>North America</td>\n",
       "      <td>7.427</td>\n",
       "      <td>1.32629</td>\n",
       "      <td>1.32261</td>\n",
       "      <td>0.90563</td>\n",
       "      <td>0.63297</td>\n",
       "      <td>0.32957</td>\n",
       "      <td>0.45811</td>\n",
       "    </tr>\n",
       "  </tbody>\n",
       "</table>\n",
       "</div>"
      ],
      "text/plain": [
       "   year      country      continent  happiness_score  gdp_per_capita  \\\n",
       "0  2015  Switzerland         Europe            7.587         1.39651   \n",
       "1  2015      Iceland         Europe            7.561         1.30232   \n",
       "2  2015      Denmark         Europe            7.527         1.32548   \n",
       "3  2015       Norway         Europe            7.522         1.45900   \n",
       "4  2015       Canada  North America            7.427         1.32629   \n",
       "\n",
       "   social_support  healthy_life_expectancy  freedom  corruption  generosity  \n",
       "0         1.34951                  0.94143  0.66557     0.41978     0.29678  \n",
       "1         1.40223                  0.94784  0.62877     0.14145     0.43630  \n",
       "2         1.36058                  0.87464  0.64938     0.48357     0.34139  \n",
       "3         1.33095                  0.88521  0.66973     0.36503     0.34699  \n",
       "4         1.32261                  0.90563  0.63297     0.32957     0.45811  "
      ]
     },
     "execution_count": 79,
     "metadata": {},
     "output_type": "execute_result"
    }
   ],
   "source": [
    "df = pd.read_csv(\"../data/output/happiness_merged.csv\")\n",
    "df.head(5)"
   ]
  },
  {
   "cell_type": "markdown",
   "id": "190e86da",
   "metadata": {},
   "source": [
    "### **Dummy variables**"
   ]
  },
  {
   "cell_type": "code",
   "execution_count": 80,
   "id": "8b9f6ca8",
   "metadata": {},
   "outputs": [],
   "source": [
    "def create_dummy(df):\n",
    "    \"\"\"\n",
    "    Crea dummy variables para las columnas categóricas especificadas.\n",
    "    \n",
    "    Parámetros:\n",
    "    - df (pd.DataFrame): El dataframe que contiene las columnas categóricas.\n",
    "\n",
    "    Retorna:\n",
    "    - pd.DataFrame: El dataframe con las dummy variables agregadas.\n",
    "    \"\"\"\n",
    "    dummies = pd.get_dummies(df[\"continent\"], drop_first=True)\n",
    "    \n",
    "    df = df.drop(columns=[\"continent\"])\n",
    "    \n",
    "    df = pd.concat([df, dummies], axis=1)\n",
    "    \n",
    "    return df"
   ]
  },
  {
   "cell_type": "code",
   "execution_count": 81,
   "id": "bc3733e0",
   "metadata": {},
   "outputs": [
    {
     "data": {
      "text/html": [
       "<div>\n",
       "<style scoped>\n",
       "    .dataframe tbody tr th:only-of-type {\n",
       "        vertical-align: middle;\n",
       "    }\n",
       "\n",
       "    .dataframe tbody tr th {\n",
       "        vertical-align: top;\n",
       "    }\n",
       "\n",
       "    .dataframe thead th {\n",
       "        text-align: right;\n",
       "    }\n",
       "</style>\n",
       "<table border=\"1\" class=\"dataframe\">\n",
       "  <thead>\n",
       "    <tr style=\"text-align: right;\">\n",
       "      <th></th>\n",
       "      <th>year</th>\n",
       "      <th>country</th>\n",
       "      <th>happiness_score</th>\n",
       "      <th>gdp_per_capita</th>\n",
       "      <th>social_support</th>\n",
       "      <th>healthy_life_expectancy</th>\n",
       "      <th>freedom</th>\n",
       "      <th>corruption</th>\n",
       "      <th>generosity</th>\n",
       "      <th>America</th>\n",
       "      <th>Asia</th>\n",
       "      <th>Central America</th>\n",
       "      <th>Europe</th>\n",
       "      <th>North America</th>\n",
       "      <th>Oceania</th>\n",
       "      <th>South America</th>\n",
       "    </tr>\n",
       "  </thead>\n",
       "  <tbody>\n",
       "    <tr>\n",
       "      <th>0</th>\n",
       "      <td>2015</td>\n",
       "      <td>Switzerland</td>\n",
       "      <td>7.587</td>\n",
       "      <td>1.39651</td>\n",
       "      <td>1.34951</td>\n",
       "      <td>0.94143</td>\n",
       "      <td>0.66557</td>\n",
       "      <td>0.41978</td>\n",
       "      <td>0.29678</td>\n",
       "      <td>False</td>\n",
       "      <td>False</td>\n",
       "      <td>False</td>\n",
       "      <td>True</td>\n",
       "      <td>False</td>\n",
       "      <td>False</td>\n",
       "      <td>False</td>\n",
       "    </tr>\n",
       "    <tr>\n",
       "      <th>1</th>\n",
       "      <td>2015</td>\n",
       "      <td>Iceland</td>\n",
       "      <td>7.561</td>\n",
       "      <td>1.30232</td>\n",
       "      <td>1.40223</td>\n",
       "      <td>0.94784</td>\n",
       "      <td>0.62877</td>\n",
       "      <td>0.14145</td>\n",
       "      <td>0.43630</td>\n",
       "      <td>False</td>\n",
       "      <td>False</td>\n",
       "      <td>False</td>\n",
       "      <td>True</td>\n",
       "      <td>False</td>\n",
       "      <td>False</td>\n",
       "      <td>False</td>\n",
       "    </tr>\n",
       "    <tr>\n",
       "      <th>2</th>\n",
       "      <td>2015</td>\n",
       "      <td>Denmark</td>\n",
       "      <td>7.527</td>\n",
       "      <td>1.32548</td>\n",
       "      <td>1.36058</td>\n",
       "      <td>0.87464</td>\n",
       "      <td>0.64938</td>\n",
       "      <td>0.48357</td>\n",
       "      <td>0.34139</td>\n",
       "      <td>False</td>\n",
       "      <td>False</td>\n",
       "      <td>False</td>\n",
       "      <td>True</td>\n",
       "      <td>False</td>\n",
       "      <td>False</td>\n",
       "      <td>False</td>\n",
       "    </tr>\n",
       "    <tr>\n",
       "      <th>3</th>\n",
       "      <td>2015</td>\n",
       "      <td>Norway</td>\n",
       "      <td>7.522</td>\n",
       "      <td>1.45900</td>\n",
       "      <td>1.33095</td>\n",
       "      <td>0.88521</td>\n",
       "      <td>0.66973</td>\n",
       "      <td>0.36503</td>\n",
       "      <td>0.34699</td>\n",
       "      <td>False</td>\n",
       "      <td>False</td>\n",
       "      <td>False</td>\n",
       "      <td>True</td>\n",
       "      <td>False</td>\n",
       "      <td>False</td>\n",
       "      <td>False</td>\n",
       "    </tr>\n",
       "    <tr>\n",
       "      <th>4</th>\n",
       "      <td>2015</td>\n",
       "      <td>Canada</td>\n",
       "      <td>7.427</td>\n",
       "      <td>1.32629</td>\n",
       "      <td>1.32261</td>\n",
       "      <td>0.90563</td>\n",
       "      <td>0.63297</td>\n",
       "      <td>0.32957</td>\n",
       "      <td>0.45811</td>\n",
       "      <td>False</td>\n",
       "      <td>False</td>\n",
       "      <td>False</td>\n",
       "      <td>False</td>\n",
       "      <td>True</td>\n",
       "      <td>False</td>\n",
       "      <td>False</td>\n",
       "    </tr>\n",
       "  </tbody>\n",
       "</table>\n",
       "</div>"
      ],
      "text/plain": [
       "   year      country  happiness_score  gdp_per_capita  social_support  \\\n",
       "0  2015  Switzerland            7.587         1.39651         1.34951   \n",
       "1  2015      Iceland            7.561         1.30232         1.40223   \n",
       "2  2015      Denmark            7.527         1.32548         1.36058   \n",
       "3  2015       Norway            7.522         1.45900         1.33095   \n",
       "4  2015       Canada            7.427         1.32629         1.32261   \n",
       "\n",
       "   healthy_life_expectancy  freedom  corruption  generosity  America   Asia  \\\n",
       "0                  0.94143  0.66557     0.41978     0.29678    False  False   \n",
       "1                  0.94784  0.62877     0.14145     0.43630    False  False   \n",
       "2                  0.87464  0.64938     0.48357     0.34139    False  False   \n",
       "3                  0.88521  0.66973     0.36503     0.34699    False  False   \n",
       "4                  0.90563  0.63297     0.32957     0.45811    False  False   \n",
       "\n",
       "   Central America  Europe  North America  Oceania  South America  \n",
       "0            False    True          False    False          False  \n",
       "1            False    True          False    False          False  \n",
       "2            False    True          False    False          False  \n",
       "3            False    True          False    False          False  \n",
       "4            False   False           True    False          False  "
      ]
     },
     "execution_count": 81,
     "metadata": {},
     "output_type": "execute_result"
    }
   ],
   "source": [
    "df = create_dummy(df)\n",
    "df.head(5)"
   ]
  },
  {
   "cell_type": "code",
   "execution_count": 82,
   "id": "495f4b9c",
   "metadata": {},
   "outputs": [
    {
     "name": "stdout",
     "output_type": "stream",
     "text": [
      "<class 'pandas.core.frame.DataFrame'>\n",
      "RangeIndex: 782 entries, 0 to 781\n",
      "Data columns (total 16 columns):\n",
      " #   Column                   Non-Null Count  Dtype  \n",
      "---  ------                   --------------  -----  \n",
      " 0   year                     782 non-null    int64  \n",
      " 1   country                  782 non-null    object \n",
      " 2   happiness_score          782 non-null    float64\n",
      " 3   gdp_per_capita           782 non-null    float64\n",
      " 4   social_support           782 non-null    float64\n",
      " 5   healthy_life_expectancy  782 non-null    float64\n",
      " 6   freedom                  782 non-null    float64\n",
      " 7   corruption               782 non-null    float64\n",
      " 8   generosity               782 non-null    float64\n",
      " 9   America                  782 non-null    bool   \n",
      " 10  Asia                     782 non-null    bool   \n",
      " 11  Central America          782 non-null    bool   \n",
      " 12  Europe                   782 non-null    bool   \n",
      " 13  North America            782 non-null    bool   \n",
      " 14  Oceania                  782 non-null    bool   \n",
      " 15  South America            782 non-null    bool   \n",
      "dtypes: bool(7), float64(7), int64(1), object(1)\n",
      "memory usage: 60.5+ KB\n"
     ]
    }
   ],
   "source": [
    "df.info()   "
   ]
  },
  {
   "cell_type": "markdown",
   "id": "fddb2482",
   "metadata": {},
   "source": [
    "### **Data division**"
   ]
  },
  {
   "cell_type": "code",
   "execution_count": 83,
   "id": "9ac691e8",
   "metadata": {},
   "outputs": [
    {
     "name": "stdout",
     "output_type": "stream",
     "text": [
      "X_train shape: (547, 13)\n",
      "X_test shape: (235, 13)\n"
     ]
    }
   ],
   "source": [
    "X = df.drop(columns=[\"happiness_score\", \"country\", \"year\"])\n",
    "y = df[\"happiness_score\"]\n",
    "\n",
    "X_train, X_test, y_train, y_test = train_test_split(X, y, test_size=0.3, random_state=77)\n",
    "\n",
    "print(\"X_train shape:\", X_train.shape)\n",
    "print(\"X_test shape:\", X_test.shape)"
   ]
  },
  {
   "cell_type": "markdown",
   "id": "4173adaa",
   "metadata": {},
   "source": [
    "## **Model training**"
   ]
  },
  {
   "cell_type": "markdown",
   "id": "e16fbd2e",
   "metadata": {},
   "source": [
    "### **Models**"
   ]
  },
  {
   "cell_type": "code",
   "execution_count": 84,
   "id": "785925af",
   "metadata": {},
   "outputs": [],
   "source": [
    "modelos = {\n",
    "    \"Linear Regression\": LinearRegression(),\n",
    "    \"Random Forest\": RandomForestRegressor(),\n",
    "    \"Gradient Boosting\": GradientBoostingRegressor(),\n",
    "    \"XGBoost\": XGBRegressor()\n",
    "}"
   ]
  },
  {
   "cell_type": "code",
   "execution_count": 85,
   "id": "dd6ea19f",
   "metadata": {},
   "outputs": [],
   "source": [
    "resultados = []\n",
    "\n",
    "for nombre, modelo in modelos.items():\n",
    "    pipeline = Pipeline([\n",
    "        (\"scaler\", StandardScaler()),\n",
    "        (\"model\", modelo)\n",
    "    ])\n",
    "    \n",
    "    pipeline.fit(X_train, y_train)\n",
    "    \n",
    "    y_train_pred = pipeline.predict(X_train)\n",
    "    y_test_pred = pipeline.predict(X_test)\n",
    "    \n",
    "    train_rmse = mean_squared_error(y_train, y_train_pred)\n",
    "    test_rmse = mean_squared_error(y_test, y_test_pred)\n",
    "    train_r2 = r2_score(y_train, y_train_pred)\n",
    "    test_r2 = r2_score(y_test, y_test_pred)\n",
    "    \n",
    "    resultados.append({\n",
    "        \"Modelo\": nombre,\n",
    "        \"Train MSE\": train_rmse,\n",
    "        \"Test MSE\": test_rmse,\n",
    "        \"Train R2\": train_r2,\n",
    "        \"Test R2\": test_r2\n",
    "    })"
   ]
  },
  {
   "cell_type": "code",
   "execution_count": 90,
   "id": "ae6cde7b",
   "metadata": {},
   "outputs": [
    {
     "name": "stdout",
     "output_type": "stream",
     "text": [
      "\n",
      " Resultados del Entrenamiento:\n",
      "              Modelo  Train MSE  Test MSE  Train R2   Test R2\n",
      "2  Gradient Boosting   0.089863  0.192603  0.929207  0.848129\n",
      "1      Random Forest   0.030327  0.195096  0.976108  0.846163\n",
      "0  Linear Regression   0.250576  0.209521  0.802598  0.834789\n",
      "3            XGBoost   0.000055  0.213305  0.999957  0.831805\n"
     ]
    }
   ],
   "source": [
    "resultados_df = pd.DataFrame(resultados).sort_values(by=\"Test R2\", ascending=False)\n",
    "print(\"\\n Resultados del Entrenamiento:\")\n",
    "print(resultados_df)"
   ]
  }
 ],
 "metadata": {
  "kernelspec": {
   "display_name": "workshop-3-YAWR-6SN-py3.11",
   "language": "python",
   "name": "python3"
  },
  "language_info": {
   "codemirror_mode": {
    "name": "ipython",
    "version": 3
   },
   "file_extension": ".py",
   "mimetype": "text/x-python",
   "name": "python",
   "nbconvert_exporter": "python",
   "pygments_lexer": "ipython3",
   "version": "3.11.9"
  }
 },
 "nbformat": 4,
 "nbformat_minor": 5
}
